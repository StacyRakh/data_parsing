{
 "cells": [
  {
   "cell_type": "code",
   "execution_count": 4,
   "id": "e16de32f",
   "metadata": {},
   "outputs": [
    {
     "name": "stdout",
     "output_type": "stream",
     "text": [
      "Введите категорию: бары\n",
      "          Название                                              Адрес  \\\n",
      "0          jet set                          Эспланадная, 3, Астрахань   \n",
      "1       Beer House     Красного знамени Ул., д. 12, 414000, Астрахань   \n",
      "2    Парк культуры  Чернышевского, 14 / Красного Знамени, 13, Астр...   \n",
      "3  Библиотека пива        Николая Островского, 134, 414057, Астрахань   \n",
      "4           Бар ДК                  Ахматовская, 9, 414000, Астрахань   \n",
      "5         Panorama                       Савушкина, 25 к1а, Астрахань   \n",
      "6           Чикаго               Воробьёва Пр., 12, 414057, Астрахань   \n",
      "7          Надежда              Шаумяна Ул., д. 51, 414000, Астрахань   \n",
      "8            Прага               Ленина Ул., д. 13, 414000, Астрахань   \n",
      "9       CHEERS BAR                     Красного Знамени 14, Астрахань   \n",
      "\n",
      "      Рейтинг  \n",
      "0         8.4  \n",
      "1         7.5  \n",
      "2         7.3  \n",
      "3         7.3  \n",
      "4         6.7  \n",
      "5         6.1  \n",
      "6         5.9  \n",
      "7  неизвестен  \n",
      "8  неизвестен  \n",
      "9  неизвестен  \n"
     ]
    }
   ],
   "source": [
    "#импортируем нужные модули\n",
    "import pandas as pd\n",
    "from pandas import Series,DataFrame\n",
    "import json\n",
    "import requests\n",
    "# добавим переменную для ввода польтзователем\n",
    "ser = str(input ('Введите категорию: '))\n",
    "# введем данные из документации на сайте ФС\n",
    "import requests\n",
    "\n",
    "url = \"https://api.foursquare.com/v3/places/search\"\n",
    "\n",
    "headers = {\n",
    "    \"accept\": \"application/json\",\n",
    "    \"Authorization\": \"fsq361Zdo4b6keNnGI6T7Ti97PtFRNfsWcSg0WT2r7hKo+A=\"\n",
    "}\n",
    "params = {\n",
    "    'query':ser,\n",
    "    \"fields\":'rating,location,name'\n",
    "   }\n",
    "\n",
    "response = requests.get(url, headers=headers, params = params)\n",
    "data = response.text\n",
    "json_res = json.loads(data)\n",
    "#наверняка, можно было проще достать данные, но у меня пока маловато опыта, поэтому так многослойно\n",
    "datause = json_res['results']\n",
    "addresses =[]\n",
    "names = []\n",
    "ratings = []\n",
    "\n",
    "for i in datause:\n",
    "    location = i['location']\n",
    "    address = location['formatted_address']\n",
    "    addresses.append(address)\n",
    "for i in datause:\n",
    "    name = i['name']\n",
    "    names.append (name)\n",
    "for i in datause:\n",
    "    if 'rating' in i:\n",
    "        rating = i['rating']\n",
    "        ratings.append (rating)   \n",
    "    else:\n",
    "        ratings.append('неизвестен')\n",
    "# создадим таблицу с данными\n",
    "df= pd.DataFrame({'Название': names, 'Адрес': addresses, 'Рейтинг': ratings})\n",
    "print(df)\n"
   ]
  },
  {
   "cell_type": "code",
   "execution_count": null,
   "id": "bcec5a72",
   "metadata": {},
   "outputs": [],
   "source": []
  },
  {
   "cell_type": "code",
   "execution_count": null,
   "id": "a84d1155",
   "metadata": {},
   "outputs": [],
   "source": []
  }
 ],
 "metadata": {
  "kernelspec": {
   "display_name": "Python 3 (ipykernel)",
   "language": "python",
   "name": "python3"
  },
  "language_info": {
   "codemirror_mode": {
    "name": "ipython",
    "version": 3
   },
   "file_extension": ".py",
   "mimetype": "text/x-python",
   "name": "python",
   "nbconvert_exporter": "python",
   "pygments_lexer": "ipython3",
   "version": "3.9.7"
  }
 },
 "nbformat": 4,
 "nbformat_minor": 5
}
