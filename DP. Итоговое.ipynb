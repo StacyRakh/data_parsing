{
 "cells": [
  {
   "cell_type": "code",
   "execution_count": 2,
   "id": "be1e668d",
   "metadata": {},
   "outputs": [],
   "source": [
    "import pandas as pd \n"
   ]
  },
  {
   "cell_type": "code",
   "execution_count": 3,
   "id": "b92bca9e",
   "metadata": {},
   "outputs": [],
   "source": [
    "df=pd.read_csv('Combined Data.csv')\n"
   ]
  },
  {
   "cell_type": "markdown",
   "id": "06970a02",
   "metadata": {},
   "source": [
    "Так как большинство датасетов по моей специальности уже рамечены, я удалила столбец с разметкой, а также перемешала строки. 100 строк я сохранила в датасет для ручной разметки, сохранив его в файл 'MyParseData'. Еще 200 строк сохранила для разметки по правилам. Изначально в датасете была разметка по психическим расстройствам, но в данном случае разделим данные по наличию и отсуствию суицидальной готовности. "
   ]
  },
  {
   "cell_type": "code",
   "execution_count": 4,
   "id": "0a3f3276",
   "metadata": {},
   "outputs": [],
   "source": [
    "del df['status']\n",
    "del df['Unnamed: 0']"
   ]
  },
  {
   "cell_type": "markdown",
   "id": "fd4ab2b8",
   "metadata": {},
   "source": [
    "Датасет был перемешан, так как изначальные данные были уже отсортированы и первые строки принадлежали одному кластеру"
   ]
  },
  {
   "cell_type": "code",
   "execution_count": 7,
   "id": "6bad10fc",
   "metadata": {},
   "outputs": [
    {
     "data": {
      "text/html": [
       "<div>\n",
       "<style scoped>\n",
       "    .dataframe tbody tr th:only-of-type {\n",
       "        vertical-align: middle;\n",
       "    }\n",
       "\n",
       "    .dataframe tbody tr th {\n",
       "        vertical-align: top;\n",
       "    }\n",
       "\n",
       "    .dataframe thead th {\n",
       "        text-align: right;\n",
       "    }\n",
       "</style>\n",
       "<table border=\"1\" class=\"dataframe\">\n",
       "  <thead>\n",
       "    <tr style=\"text-align: right;\">\n",
       "      <th></th>\n",
       "      <th>statement</th>\n",
       "    </tr>\n",
       "  </thead>\n",
       "  <tbody>\n",
       "    <tr>\n",
       "      <th>0</th>\n",
       "      <td>I'm so nervous I feel why</td>\n",
       "    </tr>\n",
       "    <tr>\n",
       "      <th>1</th>\n",
       "      <td>I have very little understanding of developing...</td>\n",
       "    </tr>\n",
       "    <tr>\n",
       "      <th>2</th>\n",
       "      <td>duncanmacrae hmmm well good luck with that</td>\n",
       "    </tr>\n",
       "    <tr>\n",
       "      <th>3</th>\n",
       "      <td>I was working at a labor pool when ever I coul...</td>\n",
       "    </tr>\n",
       "    <tr>\n",
       "      <th>4</th>\n",
       "      <td>I tried to hang myself and it happened like th...</td>\n",
       "    </tr>\n",
       "  </tbody>\n",
       "</table>\n",
       "</div>"
      ],
      "text/plain": [
       "                                           statement\n",
       "0                          I'm so nervous I feel why\n",
       "1  I have very little understanding of developing...\n",
       "2         duncanmacrae hmmm well good luck with that\n",
       "3  I was working at a labor pool when ever I coul...\n",
       "4  I tried to hang myself and it happened like th..."
      ]
     },
     "execution_count": 7,
     "metadata": {},
     "output_type": "execute_result"
    }
   ],
   "source": [
    "df = df.sample(frac=1).reset_index(drop=True)\n",
    "df.head()"
   ]
  },
  {
   "cell_type": "code",
   "execution_count": 51,
   "id": "f9e8b3d1",
   "metadata": {},
   "outputs": [
    {
     "name": "stdout",
     "output_type": "stream",
     "text": [
      "<class 'pandas.core.frame.DataFrame'>\n",
      "RangeIndex: 100 entries, 0 to 99\n",
      "Data columns (total 1 columns):\n",
      " #   Column     Non-Null Count  Dtype \n",
      "---  ------     --------------  ----- \n",
      " 0   statement  100 non-null    object\n",
      "dtypes: object(1)\n",
      "memory usage: 928.0+ bytes\n"
     ]
    }
   ],
   "source": [
    "myparse = df.iloc[:100]\n",
    "myparse.info()"
   ]
  },
  {
   "cell_type": "code",
   "execution_count": 52,
   "id": "45cb8c52",
   "metadata": {},
   "outputs": [],
   "source": [
    "myparse.to_csv('MyParseData.csv')"
   ]
  },
  {
   "cell_type": "code",
   "execution_count": 11,
   "id": "ca460a27",
   "metadata": {},
   "outputs": [
    {
     "data": {
      "text/html": [
       "<div>\n",
       "<style scoped>\n",
       "    .dataframe tbody tr th:only-of-type {\n",
       "        vertical-align: middle;\n",
       "    }\n",
       "\n",
       "    .dataframe tbody tr th {\n",
       "        vertical-align: top;\n",
       "    }\n",
       "\n",
       "    .dataframe thead th {\n",
       "        text-align: right;\n",
       "    }\n",
       "</style>\n",
       "<table border=\"1\" class=\"dataframe\">\n",
       "  <thead>\n",
       "    <tr style=\"text-align: right;\">\n",
       "      <th></th>\n",
       "      <th>statement</th>\n",
       "    </tr>\n",
       "  </thead>\n",
       "  <tbody>\n",
       "    <tr>\n",
       "      <th>100</th>\n",
       "      <td>jonathanrknight you sure did do some tweet and...</td>\n",
       "    </tr>\n",
       "    <tr>\n",
       "      <th>101</th>\n",
       "      <td>is just loving the fact that it is 0 in the a ...</td>\n",
       "    </tr>\n",
       "    <tr>\n",
       "      <th>102</th>\n",
       "      <td>mother depression arc</td>\n",
       "    </tr>\n",
       "    <tr>\n",
       "      <th>103</th>\n",
       "      <td>I am 25 years old, male, will not disclose my ...</td>\n",
       "    </tr>\n",
       "    <tr>\n",
       "      <th>104</th>\n",
       "      <td>please do not reply to this ill just have to g...</td>\n",
       "    </tr>\n",
       "  </tbody>\n",
       "</table>\n",
       "</div>"
      ],
      "text/plain": [
       "                                             statement\n",
       "100  jonathanrknight you sure did do some tweet and...\n",
       "101  is just loving the fact that it is 0 in the a ...\n",
       "102                              mother depression arc\n",
       "103  I am 25 years old, male, will not disclose my ...\n",
       "104  please do not reply to this ill just have to g..."
      ]
     },
     "execution_count": 11,
     "metadata": {},
     "output_type": "execute_result"
    }
   ],
   "source": [
    "rulesparse=df.iloc[100:300]\n",
    "rulesparse.head()"
   ]
  },
  {
   "cell_type": "code",
   "execution_count": 75,
   "id": "001fe2e7",
   "metadata": {},
   "outputs": [
    {
     "data": {
      "text/html": [
       "<div>\n",
       "<style scoped>\n",
       "    .dataframe tbody tr th:only-of-type {\n",
       "        vertical-align: middle;\n",
       "    }\n",
       "\n",
       "    .dataframe tbody tr th {\n",
       "        vertical-align: top;\n",
       "    }\n",
       "\n",
       "    .dataframe thead th {\n",
       "        text-align: right;\n",
       "    }\n",
       "</style>\n",
       "<table border=\"1\" class=\"dataframe\">\n",
       "  <thead>\n",
       "    <tr style=\"text-align: right;\">\n",
       "      <th></th>\n",
       "      <th>statement</th>\n",
       "      <th>status</th>\n",
       "    </tr>\n",
       "  </thead>\n",
       "  <tbody>\n",
       "    <tr>\n",
       "      <th>0</th>\n",
       "      <td>is at beso in hollywood so tired</td>\n",
       "      <td>non-suicidal</td>\n",
       "    </tr>\n",
       "    <tr>\n",
       "      <th>1</th>\n",
       "      <td>Unsual sweating \\nSo i have this unsual sweati...</td>\n",
       "      <td>non-suicidal</td>\n",
       "    </tr>\n",
       "    <tr>\n",
       "      <th>2</th>\n",
       "      <td>I got innocently bit by a feral kitten trapped...</td>\n",
       "      <td>non-suicidal</td>\n",
       "    </tr>\n",
       "    <tr>\n",
       "      <th>3</th>\n",
       "      <td>Anyone get this stress induced symptom? Every ...</td>\n",
       "      <td>non-suicidal</td>\n",
       "    </tr>\n",
       "    <tr>\n",
       "      <th>4</th>\n",
       "      <td>I bought a shirt for 200, but I've never worn ...</td>\n",
       "      <td>non-suicidal</td>\n",
       "    </tr>\n",
       "  </tbody>\n",
       "</table>\n",
       "</div>"
      ],
      "text/plain": [
       "                                           statement        status\n",
       "0                   is at beso in hollywood so tired  non-suicidal\n",
       "1  Unsual sweating \\nSo i have this unsual sweati...  non-suicidal\n",
       "2  I got innocently bit by a feral kitten trapped...  non-suicidal\n",
       "3  Anyone get this stress induced symptom? Every ...  non-suicidal\n",
       "4  I bought a shirt for 200, but I've never worn ...  non-suicidal"
      ]
     },
     "execution_count": 75,
     "metadata": {},
     "output_type": "execute_result"
    }
   ],
   "source": [
    "\n",
    "myparse=pd.read_csv('MyParseData.csv')\n",
    "myparse.head()"
   ]
  },
  {
   "cell_type": "code",
   "execution_count": 46,
   "id": "353b77a7",
   "metadata": {},
   "outputs": [
    {
     "name": "stdout",
     "output_type": "stream",
     "text": [
      "<class 'pandas.core.frame.DataFrame'>\n",
      "RangeIndex: 200 entries, 100 to 299\n",
      "Data columns (total 1 columns):\n",
      " #   Column     Non-Null Count  Dtype \n",
      "---  ------     --------------  ----- \n",
      " 0   statement  200 non-null    string\n",
      "dtypes: string(1)\n",
      "memory usage: 1.7 KB\n"
     ]
    },
    {
     "name": "stderr",
     "output_type": "stream",
     "text": [
      "C:\\Users\\767A~1\\AppData\\Local\\Temp/ipykernel_1880/1514207645.py:1: SettingWithCopyWarning: \n",
      "A value is trying to be set on a copy of a slice from a DataFrame.\n",
      "Try using .loc[row_indexer,col_indexer] = value instead\n",
      "\n",
      "See the caveats in the documentation: https://pandas.pydata.org/pandas-docs/stable/user_guide/indexing.html#returning-a-view-versus-a-copy\n",
      "  rulesparse['statement']=rulesparse['statement'].fillna('neutral')\n"
     ]
    }
   ],
   "source": [
    "rulesparse['statement']=rulesparse['statement'].fillna('neutral')\n",
    "rulesparse.info()\n"
   ]
  },
  {
   "cell_type": "code",
   "execution_count": 67,
   "id": "c9636223",
   "metadata": {},
   "outputs": [],
   "source": [
    "rulesparse.to_excel('Rulesparse.xlsx')"
   ]
  },
  {
   "cell_type": "markdown",
   "id": "b9e33ae1",
   "metadata": {},
   "source": [
    "Для ручной разметки я выбрала LabelStudio. Возможно, для распознавания текста лучше было использовать tagtog, но в сети были комментарии о том, что у него хуже интерфейс, а преимуществ не очень много. Возможно, когда моя задача будет не учебной, а практической, я подробнее изучу этот инструмент. "
   ]
  },
  {
   "cell_type": "code",
   "execution_count": 23,
   "id": "3531bdae",
   "metadata": {},
   "outputs": [
    {
     "name": "stderr",
     "output_type": "stream",
     "text": [
      "[nltk_data] Downloading package punkt_tab to C:\\Users\\Анастасия\n",
      "[nltk_data]     Рахманина\\AppData\\Roaming\\nltk_data...\n",
      "[nltk_data]   Unzipping tokenizers\\punkt_tab.zip.\n"
     ]
    },
    {
     "data": {
      "text/plain": [
       "True"
      ]
     },
     "execution_count": 23,
     "metadata": {},
     "output_type": "execute_result"
    }
   ],
   "source": [
    "import numpy as np\n",
    "import nltk\n",
    "nltk.download('punkt_tab')\n"
   ]
  },
  {
   "cell_type": "code",
   "execution_count": 63,
   "id": "94bf53cc",
   "metadata": {},
   "outputs": [],
   "source": [
    "#Определим слова-синонимы для разных видов ментальных проблем\n",
    "suicidal=['die','kill','murder','end','suicide','suicidal','goodbye']\n"
   ]
  },
  {
   "cell_type": "code",
   "execution_count": 68,
   "id": "431e82f8",
   "metadata": {},
   "outputs": [],
   "source": [
    "def get_status(text):\n",
    "    words=nltk.word_tokenize(text.lower())\n",
    "    num_anxious = sum([1 for word in words if word in anxious_words])\n",
    "    num_depressive = sum([1 for word in words if word in depressive_words])\n",
    "    num_psycho = sum([1 for word in words if word in psycho_words])\n",
    "    num_bo = sum([1 for word in words if word in burned_out])\n",
    "    num_suicidal = sum([1 for word in words if word in suicidal])\n",
    "    if num_suicidal>1:\n",
    "        return 'suicidal'\n",
    "    else:\n",
    "        return 'non-suicidal'\n",
    "\n",
    "    \n",
    "        \n",
    "    \n",
    "    \n"
   ]
  },
  {
   "cell_type": "code",
   "execution_count": 69,
   "id": "23371a32",
   "metadata": {},
   "outputs": [
    {
     "name": "stderr",
     "output_type": "stream",
     "text": [
      "C:\\Users\\767A~1\\AppData\\Local\\Temp/ipykernel_1880/3703138813.py:1: SettingWithCopyWarning: \n",
      "A value is trying to be set on a copy of a slice from a DataFrame.\n",
      "Try using .loc[row_indexer,col_indexer] = value instead\n",
      "\n",
      "See the caveats in the documentation: https://pandas.pydata.org/pandas-docs/stable/user_guide/indexing.html#returning-a-view-versus-a-copy\n",
      "  rulesparse['status']=rulesparse['statement'].apply(get_status)\n"
     ]
    }
   ],
   "source": [
    "rulesparse['status']=rulesparse['statement'].apply(get_status)"
   ]
  },
  {
   "cell_type": "code",
   "execution_count": 70,
   "id": "06957ee0",
   "metadata": {},
   "outputs": [
    {
     "data": {
      "text/html": [
       "<div>\n",
       "<style scoped>\n",
       "    .dataframe tbody tr th:only-of-type {\n",
       "        vertical-align: middle;\n",
       "    }\n",
       "\n",
       "    .dataframe tbody tr th {\n",
       "        vertical-align: top;\n",
       "    }\n",
       "\n",
       "    .dataframe thead th {\n",
       "        text-align: right;\n",
       "    }\n",
       "</style>\n",
       "<table border=\"1\" class=\"dataframe\">\n",
       "  <thead>\n",
       "    <tr style=\"text-align: right;\">\n",
       "      <th></th>\n",
       "      <th>statement</th>\n",
       "      <th>status</th>\n",
       "    </tr>\n",
       "  </thead>\n",
       "  <tbody>\n",
       "    <tr>\n",
       "      <th>100</th>\n",
       "      <td>jonathanrknight you sure did do some tweet and...</td>\n",
       "      <td>non-suicidal</td>\n",
       "    </tr>\n",
       "    <tr>\n",
       "      <th>101</th>\n",
       "      <td>is just loving the fact that it is 0 in the a ...</td>\n",
       "      <td>non-suicidal</td>\n",
       "    </tr>\n",
       "    <tr>\n",
       "      <th>102</th>\n",
       "      <td>mother depression arc</td>\n",
       "      <td>non-suicidal</td>\n",
       "    </tr>\n",
       "    <tr>\n",
       "      <th>103</th>\n",
       "      <td>I am 25 years old, male, will not disclose my ...</td>\n",
       "      <td>suicidal</td>\n",
       "    </tr>\n",
       "    <tr>\n",
       "      <th>104</th>\n",
       "      <td>please do not reply to this ill just have to g...</td>\n",
       "      <td>non-suicidal</td>\n",
       "    </tr>\n",
       "  </tbody>\n",
       "</table>\n",
       "</div>"
      ],
      "text/plain": [
       "                                             statement        status\n",
       "100  jonathanrknight you sure did do some tweet and...  non-suicidal\n",
       "101  is just loving the fact that it is 0 in the a ...  non-suicidal\n",
       "102                              mother depression arc  non-suicidal\n",
       "103  I am 25 years old, male, will not disclose my ...      suicidal\n",
       "104  please do not reply to this ill just have to g...  non-suicidal"
      ]
     },
     "execution_count": 70,
     "metadata": {},
     "output_type": "execute_result"
    }
   ],
   "source": [
    "rulesparse.head()"
   ]
  },
  {
   "cell_type": "markdown",
   "id": "c3b4cc10",
   "metadata": {},
   "source": [
    "Объединим датасеты"
   ]
  },
  {
   "cell_type": "code",
   "execution_count": 139,
   "id": "514eb1e5",
   "metadata": {},
   "outputs": [],
   "source": [
    "merged_df=pd.concat([myparse,rulesparse])"
   ]
  },
  {
   "cell_type": "code",
   "execution_count": 140,
   "id": "dbd7048f",
   "metadata": {},
   "outputs": [],
   "source": [
    "from sklearn.preprocessing import LabelEncoder\n",
    "le = LabelEncoder()\n",
    "merged_df['status'] = le.fit_transform(merged_df['status'].astype(object))\n",
    "merged_df = merged_df.sample(frac=1).reset_index(drop=True)\n"
   ]
  },
  {
   "cell_type": "markdown",
   "id": "93861e0b",
   "metadata": {},
   "source": [
    "Так как в программе уроки по машинному обучению были открыты недавно и я их еще не освоила, использую код из урока. "
   ]
  },
  {
   "cell_type": "code",
   "execution_count": 176,
   "id": "23d2c19e",
   "metadata": {},
   "outputs": [],
   "source": [
    "train_df = merged_df[0:150]\n",
    "test_df=merged_df[150:]\n"
   ]
  },
  {
   "cell_type": "code",
   "execution_count": 157,
   "id": "77d8abf3",
   "metadata": {},
   "outputs": [],
   "source": [
    "from sklearn.feature_extraction.text import TfidfVectorizer\n",
    "from sklearn.linear_model import LogisticRegression\n",
    "from sklearn.model_selection import train_test_split\n",
    "from sklearn.metrics import f1_score\n"
   ]
  },
  {
   "cell_type": "code",
   "execution_count": 177,
   "id": "a689296d",
   "metadata": {},
   "outputs": [],
   "source": [
    "labeled_texts, unlabeled_texts = train_test_split(train_df, train_size=0.5, random_state=42)"
   ]
  },
  {
   "cell_type": "code",
   "execution_count": 178,
   "id": "4a2d0dc5",
   "metadata": {},
   "outputs": [],
   "source": [
    "def train_model(labeled_texts):\n",
    "    vectorizer = TfidfVectorizer()\n",
    "    X = vectorizer.fit_transform(labeled_texts['statement'])\n",
    "    y = labeled_texts['status']\n",
    "\n",
    "    # Обучение модели логистической регрессии на размеченных данных\n",
    "    model = LogisticRegression()\n",
    "    model.fit(X, y)\n",
    "\n",
    "    return model, vectorizer\n"
   ]
  },
  {
   "cell_type": "code",
   "execution_count": 179,
   "id": "0b7dbfc8",
   "metadata": {},
   "outputs": [],
   "source": [
    "model, vectorizer = train_model(labeled_texts)"
   ]
  },
  {
   "cell_type": "code",
   "execution_count": 180,
   "id": "c94dc7db",
   "metadata": {},
   "outputs": [],
   "source": [
    "X_unlabeled = vectorizer.transform(unlabeled_texts['statement'])\n",
    "y_unlabeled_predicted = model.predict(X_unlabeled)"
   ]
  },
  {
   "cell_type": "code",
   "execution_count": 181,
   "id": "57112a2d",
   "metadata": {},
   "outputs": [],
   "source": [
    "model, vectorizer = train_model(labeled_texts)"
   ]
  },
  {
   "cell_type": "code",
   "execution_count": 182,
   "id": "8edfc158",
   "metadata": {},
   "outputs": [
    {
     "name": "stdout",
     "output_type": "stream",
     "text": [
      "0.0\n"
     ]
    }
   ],
   "source": [
    "X_test = vectorizer.transform(test_df['statement'])\n",
    "y_test_predicted = model.predict(X_test)\n",
    "f1 = f1_score(test_df['status'], y_test_predicted)\n",
    "\n",
    "print(f1)"
   ]
  },
  {
   "cell_type": "markdown",
   "id": "ffc2ad6e",
   "metadata": {},
   "source": [
    "Очевидно, что модель плохая, возможно потому, что у нас мало данных, особенно показателей суицидальных пациентов. "
   ]
  },
  {
   "cell_type": "code",
   "execution_count": null,
   "id": "bed54353",
   "metadata": {},
   "outputs": [],
   "source": []
  }
 ],
 "metadata": {
  "kernelspec": {
   "display_name": "Python 3 (ipykernel)",
   "language": "python",
   "name": "python3"
  },
  "language_info": {
   "codemirror_mode": {
    "name": "ipython",
    "version": 3
   },
   "file_extension": ".py",
   "mimetype": "text/x-python",
   "name": "python",
   "nbconvert_exporter": "python",
   "pygments_lexer": "ipython3",
   "version": "3.9.7"
  }
 },
 "nbformat": 4,
 "nbformat_minor": 5
}
